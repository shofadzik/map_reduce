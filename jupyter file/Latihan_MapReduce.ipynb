{
  "cells": [
    {
      "cell_type": "code",
      "execution_count": null,
      "metadata": {
        "id": "-dSQ6NsbKUCB"
      },
      "outputs": [],
      "source": [
        "!pip install mrjob==0.6.12"
      ]
    },
    {
      "cell_type": "code",
      "execution_count": null,
      "metadata": {
        "id": "IOqYYwoSMGqN"
      },
      "outputs": [],
      "source": [
        "import mrjob"
      ]
    },
    {
      "cell_type": "code",
      "source": [
        "#ini contoh untuk mapper reducer (basic)\n",
        "!python RatingCounter.py movie_rating.txt > result_movie_rating.txt \n",
        "#!python untuk ngerunning based script"
      ],
      "metadata": {
        "id": "1G9q2FxpK0cR"
      },
      "execution_count": null,
      "outputs": []
    },
    {
      "cell_type": "code",
      "source": [
        "#ini contoh untuk mapper reducer dengan agregation avg\n",
        "!python FriendByAge.py fakefriends.csv > friendsbyage.txt"
      ],
      "metadata": {
        "id": "4N_aSW9tLApJ"
      },
      "execution_count": null,
      "outputs": []
    },
    {
      "cell_type": "code",
      "source": [
        "#ini contoh untuk cari nilai nilai minimum suhu\n",
        "!python MinTemperatures.py 1800.csv > min_temperatures.txt"
      ],
      "metadata": {
        "id": "Zt6el_fRLPy-"
      },
      "execution_count": null,
      "outputs": []
    },
    {
      "cell_type": "code",
      "source": [
        "#ini contoh untuk cari nilai nilai maximum suhu\n",
        "!python MaxTemperatures.py 1800.csv > max_temperatures.txt"
      ],
      "metadata": {
        "id": "INr6RmJULb_H"
      },
      "execution_count": null,
      "outputs": []
    },
    {
      "cell_type": "code",
      "source": [
        "# mencari kata pada buku pake fungsi biasa, hasilnya tidak bagus karena terdapat simbol2\n",
        "!python WordFrequency.py Book.txt > word_frequency.txt"
      ],
      "metadata": {
        "id": "Zvv1T29lLg95"
      },
      "execution_count": null,
      "outputs": []
    },
    {
      "cell_type": "code",
      "source": [
        "# mencari kata pada buku pake regex, hasilnya bagus tanpa simbol2\n",
        "!python WordFrequencyBetter.py Book.txt > word_frequency_better.txt"
      ],
      "metadata": {
        "id": "dO8WX5JXLvVv"
      },
      "execution_count": null,
      "outputs": []
    },
    {
      "cell_type": "code",
      "source": [
        "#contoh dengan multi stage\n",
        "!python WordFrequencySorted.py Book.txt > word_frequency_sorted.txt"
      ],
      "metadata": {
        "id": "dfEZ18NNnGft"
      },
      "execution_count": null,
      "outputs": []
    },
    {
      "cell_type": "code",
      "execution_count": null,
      "metadata": {
        "colab": {
          "background_save": true
        },
        "id": "krnPsSlGMJ87"
      },
      "outputs": [],
      "source": [
        "!python spendByCustomer.py customer-orders.csv > spend_by_customer.txt"
      ]
    },
    {
      "cell_type": "code",
      "source": [
        "!python spendByCustomerSorted.py customer-orders.csv > spend_by_customer_sorted.txt"
      ],
      "metadata": {
        "id": "HFgtO9a_LyRe"
      },
      "execution_count": null,
      "outputs": []
    },
    {
      "cell_type": "code",
      "source": [
        "!python WordFrequencyWithCombiner.py Book.txt > word_frequency_with_combiner.txt"
      ],
      "metadata": {
        "id": "vzI6r1sSL6ql"
      },
      "execution_count": null,
      "outputs": []
    }
  ],
  "metadata": {
    "colab": {
      "collapsed_sections": [],
      "name": "Latihan_MapReduce.ipynb",
      "provenance": []
    },
    "kernelspec": {
      "display_name": "Python 3",
      "name": "python3"
    },
    "language_info": {
      "name": "python"
    }
  },
  "nbformat": 4,
  "nbformat_minor": 0
}